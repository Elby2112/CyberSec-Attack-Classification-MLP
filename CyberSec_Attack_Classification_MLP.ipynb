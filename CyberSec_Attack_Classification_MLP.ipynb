{
  "nbformat": 4,
  "nbformat_minor": 0,
  "metadata": {
    "colab": {
      "provenance": [],
      "authorship_tag": "ABX9TyM9Om4lgdLavUipYlaEMstH",
      "include_colab_link": true
    },
    "kernelspec": {
      "name": "python3",
      "display_name": "Python 3"
    },
    "language_info": {
      "name": "python"
    }
  },
  "cells": [
    {
      "cell_type": "markdown",
      "metadata": {
        "id": "view-in-github",
        "colab_type": "text"
      },
      "source": [
        "<a href=\"https://colab.research.google.com/github/Elby2112/CyberSec-Attack-Classification-MLP/blob/main/CyberSec_Attack_Classification_MLP.ipynb\" target=\"_parent\"><img src=\"https://colab.research.google.com/assets/colab-badge.svg\" alt=\"Open In Colab\"/></a>"
      ]
    },
    {
      "cell_type": "code",
      "execution_count": null,
      "metadata": {
        "colab": {
          "base_uri": "https://localhost:8080/",
          "height": 180
        },
        "id": "3uHhDXs3oLZQ",
        "outputId": "9acbd303-7fde-451f-b329-902aba3aaa10"
      },
      "outputs": [
        {
          "output_type": "display_data",
          "data": {
            "text/plain": [
              "<IPython.core.display.HTML object>"
            ],
            "text/html": [
              "\n",
              "     <input type=\"file\" id=\"files-727ac38f-b6d8-48e9-bd2a-a83db20072b9\" name=\"files[]\" multiple disabled\n",
              "        style=\"border:none\" />\n",
              "     <output id=\"result-727ac38f-b6d8-48e9-bd2a-a83db20072b9\">\n",
              "      Upload widget is only available when the cell has been executed in the\n",
              "      current browser session. Please rerun this cell to enable.\n",
              "      </output>\n",
              "      <script>// Copyright 2017 Google LLC\n",
              "//\n",
              "// Licensed under the Apache License, Version 2.0 (the \"License\");\n",
              "// you may not use this file except in compliance with the License.\n",
              "// You may obtain a copy of the License at\n",
              "//\n",
              "//      http://www.apache.org/licenses/LICENSE-2.0\n",
              "//\n",
              "// Unless required by applicable law or agreed to in writing, software\n",
              "// distributed under the License is distributed on an \"AS IS\" BASIS,\n",
              "// WITHOUT WARRANTIES OR CONDITIONS OF ANY KIND, either express or implied.\n",
              "// See the License for the specific language governing permissions and\n",
              "// limitations under the License.\n",
              "\n",
              "/**\n",
              " * @fileoverview Helpers for google.colab Python module.\n",
              " */\n",
              "(function(scope) {\n",
              "function span(text, styleAttributes = {}) {\n",
              "  const element = document.createElement('span');\n",
              "  element.textContent = text;\n",
              "  for (const key of Object.keys(styleAttributes)) {\n",
              "    element.style[key] = styleAttributes[key];\n",
              "  }\n",
              "  return element;\n",
              "}\n",
              "\n",
              "// Max number of bytes which will be uploaded at a time.\n",
              "const MAX_PAYLOAD_SIZE = 100 * 1024;\n",
              "\n",
              "function _uploadFiles(inputId, outputId) {\n",
              "  const steps = uploadFilesStep(inputId, outputId);\n",
              "  const outputElement = document.getElementById(outputId);\n",
              "  // Cache steps on the outputElement to make it available for the next call\n",
              "  // to uploadFilesContinue from Python.\n",
              "  outputElement.steps = steps;\n",
              "\n",
              "  return _uploadFilesContinue(outputId);\n",
              "}\n",
              "\n",
              "// This is roughly an async generator (not supported in the browser yet),\n",
              "// where there are multiple asynchronous steps and the Python side is going\n",
              "// to poll for completion of each step.\n",
              "// This uses a Promise to block the python side on completion of each step,\n",
              "// then passes the result of the previous step as the input to the next step.\n",
              "function _uploadFilesContinue(outputId) {\n",
              "  const outputElement = document.getElementById(outputId);\n",
              "  const steps = outputElement.steps;\n",
              "\n",
              "  const next = steps.next(outputElement.lastPromiseValue);\n",
              "  return Promise.resolve(next.value.promise).then((value) => {\n",
              "    // Cache the last promise value to make it available to the next\n",
              "    // step of the generator.\n",
              "    outputElement.lastPromiseValue = value;\n",
              "    return next.value.response;\n",
              "  });\n",
              "}\n",
              "\n",
              "/**\n",
              " * Generator function which is called between each async step of the upload\n",
              " * process.\n",
              " * @param {string} inputId Element ID of the input file picker element.\n",
              " * @param {string} outputId Element ID of the output display.\n",
              " * @return {!Iterable<!Object>} Iterable of next steps.\n",
              " */\n",
              "function* uploadFilesStep(inputId, outputId) {\n",
              "  const inputElement = document.getElementById(inputId);\n",
              "  inputElement.disabled = false;\n",
              "\n",
              "  const outputElement = document.getElementById(outputId);\n",
              "  outputElement.innerHTML = '';\n",
              "\n",
              "  const pickedPromise = new Promise((resolve) => {\n",
              "    inputElement.addEventListener('change', (e) => {\n",
              "      resolve(e.target.files);\n",
              "    });\n",
              "  });\n",
              "\n",
              "  const cancel = document.createElement('button');\n",
              "  inputElement.parentElement.appendChild(cancel);\n",
              "  cancel.textContent = 'Cancel upload';\n",
              "  const cancelPromise = new Promise((resolve) => {\n",
              "    cancel.onclick = () => {\n",
              "      resolve(null);\n",
              "    };\n",
              "  });\n",
              "\n",
              "  // Wait for the user to pick the files.\n",
              "  const files = yield {\n",
              "    promise: Promise.race([pickedPromise, cancelPromise]),\n",
              "    response: {\n",
              "      action: 'starting',\n",
              "    }\n",
              "  };\n",
              "\n",
              "  cancel.remove();\n",
              "\n",
              "  // Disable the input element since further picks are not allowed.\n",
              "  inputElement.disabled = true;\n",
              "\n",
              "  if (!files) {\n",
              "    return {\n",
              "      response: {\n",
              "        action: 'complete',\n",
              "      }\n",
              "    };\n",
              "  }\n",
              "\n",
              "  for (const file of files) {\n",
              "    const li = document.createElement('li');\n",
              "    li.append(span(file.name, {fontWeight: 'bold'}));\n",
              "    li.append(span(\n",
              "        `(${file.type || 'n/a'}) - ${file.size} bytes, ` +\n",
              "        `last modified: ${\n",
              "            file.lastModifiedDate ? file.lastModifiedDate.toLocaleDateString() :\n",
              "                                    'n/a'} - `));\n",
              "    const percent = span('0% done');\n",
              "    li.appendChild(percent);\n",
              "\n",
              "    outputElement.appendChild(li);\n",
              "\n",
              "    const fileDataPromise = new Promise((resolve) => {\n",
              "      const reader = new FileReader();\n",
              "      reader.onload = (e) => {\n",
              "        resolve(e.target.result);\n",
              "      };\n",
              "      reader.readAsArrayBuffer(file);\n",
              "    });\n",
              "    // Wait for the data to be ready.\n",
              "    let fileData = yield {\n",
              "      promise: fileDataPromise,\n",
              "      response: {\n",
              "        action: 'continue',\n",
              "      }\n",
              "    };\n",
              "\n",
              "    // Use a chunked sending to avoid message size limits. See b/62115660.\n",
              "    let position = 0;\n",
              "    do {\n",
              "      const length = Math.min(fileData.byteLength - position, MAX_PAYLOAD_SIZE);\n",
              "      const chunk = new Uint8Array(fileData, position, length);\n",
              "      position += length;\n",
              "\n",
              "      const base64 = btoa(String.fromCharCode.apply(null, chunk));\n",
              "      yield {\n",
              "        response: {\n",
              "          action: 'append',\n",
              "          file: file.name,\n",
              "          data: base64,\n",
              "        },\n",
              "      };\n",
              "\n",
              "      let percentDone = fileData.byteLength === 0 ?\n",
              "          100 :\n",
              "          Math.round((position / fileData.byteLength) * 100);\n",
              "      percent.textContent = `${percentDone}% done`;\n",
              "\n",
              "    } while (position < fileData.byteLength);\n",
              "  }\n",
              "\n",
              "  // All done.\n",
              "  yield {\n",
              "    response: {\n",
              "      action: 'complete',\n",
              "    }\n",
              "  };\n",
              "}\n",
              "\n",
              "scope.google = scope.google || {};\n",
              "scope.google.colab = scope.google.colab || {};\n",
              "scope.google.colab._files = {\n",
              "  _uploadFiles,\n",
              "  _uploadFilesContinue,\n",
              "};\n",
              "})(self);\n",
              "</script> "
            ]
          },
          "metadata": {}
        },
        {
          "output_type": "stream",
          "name": "stdout",
          "text": [
            "Saving ICMP_flood.csv to ICMP_flood.csv\n",
            "Saving Normal_flood.csv to Normal_flood.csv\n",
            "Saving SYN_flood.csv to SYN_flood.csv\n",
            "Saving UDP_flood.csv to UDP_flood.csv\n"
          ]
        }
      ],
      "source": [
        "from google.colab import files\n",
        "uploaded=files.upload()"
      ]
    },
    {
      "cell_type": "markdown",
      "source": [
        "# **Data Preperation**"
      ],
      "metadata": {
        "id": "r5VQDRORulwr"
      }
    },
    {
      "cell_type": "code",
      "source": [
        "import pandas as pd\n",
        "\n",
        "#Importing SYN_flood dataset\n",
        "df1 = pd.read_csv(\"SYN_flood.csv\")\n",
        "\n",
        "#Importing ICMP_flood dataset\n",
        "df2 = pd.read_csv(\"ICMP_flood.csv\")\n",
        "\n",
        "#Importing UDP_flood dataset\n",
        "\n",
        "df3 = pd.read_csv(\"UDP_flood.csv\")\n",
        "\n",
        "#Importing Normal dataset\n",
        "\n",
        "df4 = pd.read_csv(\"Normal_flood.csv\")"
      ],
      "metadata": {
        "colab": {
          "base_uri": "https://localhost:8080/"
        },
        "id": "XxyEhFk1KABO",
        "outputId": "1a201d6c-61e4-481e-aa65-e1a21eedc00d"
      },
      "execution_count": null,
      "outputs": [
        {
          "output_type": "stream",
          "name": "stderr",
          "text": [
            "<ipython-input-2-ebded4835591>:11: DtypeWarning: Columns (0) have mixed types. Specify dtype option on import or set low_memory=False.\n",
            "  df3 = pd.read_csv(\"UDP_flood.csv\")\n",
            "<ipython-input-2-ebded4835591>:15: DtypeWarning: Columns (0) have mixed types. Specify dtype option on import or set low_memory=False.\n",
            "  df4 = pd.read_csv(\"Normal_flood.csv\")\n"
          ]
        }
      ]
    },
    {
      "cell_type": "code",
      "source": [
        "import numpy as np\n",
        "datasets = [df1, df2, df3, df4]\n",
        "for dataset in datasets:\n",
        "    dataset = dataset.replace([np.inf, -np.inf], np.nan)\n",
        "    df_num = dataset.select_dtypes(include=np.number)\n",
        "    max_val = df_num.max(skipna=True).max()\n",
        "    dataset.fillna(max_val + 1, inplace=True)"
      ],
      "metadata": {
        "id": "1UthJsqTKBAG"
      },
      "execution_count": null,
      "outputs": []
    },
    {
      "cell_type": "code",
      "source": [
        "df1['Label'] = df1['Label'].replace('SYN_flood', 1)\n",
        "df2['Label'] = df2['Label'].replace('ICMP_flood', 2)\n",
        "df3['Label'] = df3['Label'].replace('UDP_flood', 3)\n",
        "df4['Label'] = df4['Label'].replace('Normal', 4)"
      ],
      "metadata": {
        "id": "3TsK0xMFKKGl"
      },
      "execution_count": null,
      "outputs": []
    },
    {
      "cell_type": "code",
      "source": [
        "my_dataset = pd.concat([df1, df2, df3, df4], axis=0).sample(frac=1)\n",
        "my_dataset=my_dataset.dropna()\n",
        "print(my_dataset.iloc[:10, -2:])"
      ],
      "metadata": {
        "colab": {
          "base_uri": "https://localhost:8080/"
        },
        "id": "FwM_6C-nKPzW",
        "outputId": "b16312f0-0d01-4e86-f79e-9bfcbba7fcdf"
      },
      "execution_count": null,
      "outputs": [
        {
          "output_type": "stream",
          "name": "stdout",
          "text": [
            "         Idle Min  Label\n",
            "18111         0.0    4.0\n",
            "13673  26600000.0    1.0\n",
            "20298  19100000.0    1.0\n",
            "4477   52400000.0    1.0\n",
            "18665         0.0    4.0\n",
            "191    39600000.0    2.0\n",
            "19119         0.0    4.0\n",
            "14076  20600000.0    1.0\n",
            "19066         0.0    4.0\n",
            "21292         0.0    1.0\n"
          ]
        }
      ]
    },
    {
      "cell_type": "markdown",
      "source": [
        "# **Splitting attributs into a list of inputs and an output**\n",
        "We used  43/78"
      ],
      "metadata": {
        "id": "AgcMWLBWu6Ah"
      }
    },
    {
      "cell_type": "code",
      "source": [
        "X = my_dataset[['RST Flag Cnt', 'Pkt Len Max' , 'Flow IAT Min' ,  'Init Bwd Win Byts', 'Flow IAT Max', 'Bwd IAT Min', 'Subflow Bwd Byts', 'Fwd Pkts/s', 'Flow IAT Mean',\n",
        "                'Bwd IAT Tot', 'Bwd Pkts/s', 'Pkt Len Min', 'Fwd Seg Size Avg', 'Fwd IAT Min', 'Bwd Header Len', 'Fwd IAT Tot','Flow IAT Std', 'Pkt Size Avg', 'Pkt Len Std',\n",
        "                'Bwd Seg, Size Avg','Fwd Act Data Pkts', 'Pkt Len Var', 'Idle Min',  'Subflow Fwd Byts', 'PSH Flag Cnt', 'Fwd IAT Max', 'Pkt Len Mean',  'Idle Std',\n",
        "                'Active Std', 'Bwd IAT Mean', 'Bwd IAT Max', 'Fwd IAT Std', 'Fwd IAT Mean', 'Bwd IAT Std', 'FIN Flag Cnt',  'Fwd Header Len','Active Max', 'Active Min',\n",
        "                'Active Mean', 'Idle Mean', 'ACK Flag Cnt']]\n",
        "y = my_dataset['Label']"
      ],
      "metadata": {
        "id": "vI33_KnoKWGh"
      },
      "execution_count": null,
      "outputs": []
    },
    {
      "cell_type": "code",
      "source": [
        "X=X.fillna(0)"
      ],
      "metadata": {
        "id": "wU35Mr8rLfNt"
      },
      "execution_count": null,
      "outputs": []
    },
    {
      "cell_type": "code",
      "source": [
        "from sklearn.neural_network import MLPClassifier\n",
        "from sklearn.model_selection import train_test_split\n",
        "from sklearn.metrics import accuracy_score"
      ],
      "metadata": {
        "id": "4OM4i3IYO1HW"
      },
      "execution_count": null,
      "outputs": []
    },
    {
      "cell_type": "code",
      "source": [
        "X_train, X_test, y_train, y_test = train_test_split(X, y, test_size=0.2, random_state=42)"
      ],
      "metadata": {
        "id": "5tyBm2xBO6PB"
      },
      "execution_count": null,
      "outputs": []
    },
    {
      "cell_type": "code",
      "source": [
        "mlp = MLPClassifier(hidden_layer_sizes=(100,), max_iter=500, alpha=0.0001,\n",
        "                    solver='adam', verbose=10, random_state=42, tol=0.0001)"
      ],
      "metadata": {
        "id": "9XPthxz5PX1J"
      },
      "execution_count": null,
      "outputs": []
    },
    {
      "cell_type": "code",
      "source": [
        "mlp.fit(X_train, y_train)"
      ],
      "metadata": {
        "colab": {
          "base_uri": "https://localhost:8080/",
          "height": 1000
        },
        "id": "ZQCua7y9PdHO",
        "outputId": "2f406e64-6469-4a31-bf49-de041ce02541"
      },
      "execution_count": null,
      "outputs": [
        {
          "output_type": "stream",
          "name": "stdout",
          "text": [
            "Iteration 1, loss = 12.82548265\n",
            "Iteration 2, loss = 10.86015828\n",
            "Iteration 3, loss = 10.48688244\n",
            "Iteration 4, loss = 10.46555294\n",
            "Iteration 5, loss = 10.09554292\n",
            "Iteration 6, loss = 10.14700628\n",
            "Iteration 7, loss = 9.98222752\n",
            "Iteration 8, loss = 9.67819798\n",
            "Iteration 9, loss = 9.76751511\n",
            "Iteration 10, loss = 9.62355386\n",
            "Iteration 11, loss = 9.61441793\n",
            "Iteration 12, loss = 9.54134294\n",
            "Iteration 13, loss = 9.43348419\n",
            "Iteration 14, loss = 9.29500068\n",
            "Iteration 15, loss = 9.36299344\n",
            "Iteration 16, loss = 9.45433410\n",
            "Iteration 17, loss = 9.22585325\n",
            "Iteration 18, loss = 9.28765419\n",
            "Iteration 19, loss = 9.03210703\n",
            "Iteration 20, loss = 9.29131263\n",
            "Iteration 21, loss = 9.15930639\n",
            "Iteration 22, loss = 9.15429447\n",
            "Iteration 23, loss = 9.19175132\n",
            "Iteration 24, loss = 9.22142490\n",
            "Iteration 25, loss = 9.09287706\n",
            "Iteration 26, loss = 9.12053812\n",
            "Iteration 27, loss = 9.10785571\n",
            "Iteration 28, loss = 9.31833920\n",
            "Iteration 29, loss = 9.12042267\n",
            "Iteration 30, loss = 8.92040985\n",
            "Iteration 31, loss = 8.97789554\n",
            "Iteration 32, loss = 9.00713795\n",
            "Iteration 33, loss = 9.05115282\n",
            "Iteration 34, loss = 9.05018373\n",
            "Iteration 35, loss = 8.96063533\n",
            "Iteration 36, loss = 8.87670743\n",
            "Iteration 37, loss = 8.99115429\n",
            "Iteration 38, loss = 8.78706942\n",
            "Iteration 39, loss = 9.04583362\n",
            "Iteration 40, loss = 8.81936933\n",
            "Iteration 41, loss = 8.84407042\n",
            "Iteration 42, loss = 8.73256703\n",
            "Iteration 43, loss = 8.60492062\n",
            "Iteration 44, loss = 8.91210003\n",
            "Iteration 45, loss = 8.76668104\n",
            "Iteration 46, loss = 8.56940864\n",
            "Iteration 47, loss = 8.87594701\n",
            "Iteration 48, loss = 8.54262830\n",
            "Iteration 49, loss = 8.66819975\n",
            "Iteration 50, loss = 8.55816368\n",
            "Iteration 51, loss = 8.79520428\n",
            "Iteration 52, loss = 8.51826576\n",
            "Iteration 53, loss = 8.59051360\n",
            "Iteration 54, loss = 8.61782689\n",
            "Iteration 55, loss = 8.59673753\n",
            "Iteration 56, loss = 8.73491708\n",
            "Iteration 57, loss = 8.59427838\n",
            "Iteration 58, loss = 8.66943086\n",
            "Iteration 59, loss = 8.58538683\n",
            "Iteration 60, loss = 8.58917172\n",
            "Iteration 61, loss = 8.53443405\n",
            "Iteration 62, loss = 8.56088603\n",
            "Iteration 63, loss = 8.67255691\n",
            "Training loss did not improve more than tol=0.000100 for 10 consecutive epochs. Stopping.\n"
          ]
        },
        {
          "output_type": "execute_result",
          "data": {
            "text/plain": [
              "MLPClassifier(max_iter=500, random_state=42, verbose=10)"
            ],
            "text/html": [
              "<style>#sk-container-id-1 {color: black;background-color: white;}#sk-container-id-1 pre{padding: 0;}#sk-container-id-1 div.sk-toggleable {background-color: white;}#sk-container-id-1 label.sk-toggleable__label {cursor: pointer;display: block;width: 100%;margin-bottom: 0;padding: 0.3em;box-sizing: border-box;text-align: center;}#sk-container-id-1 label.sk-toggleable__label-arrow:before {content: \"▸\";float: left;margin-right: 0.25em;color: #696969;}#sk-container-id-1 label.sk-toggleable__label-arrow:hover:before {color: black;}#sk-container-id-1 div.sk-estimator:hover label.sk-toggleable__label-arrow:before {color: black;}#sk-container-id-1 div.sk-toggleable__content {max-height: 0;max-width: 0;overflow: hidden;text-align: left;background-color: #f0f8ff;}#sk-container-id-1 div.sk-toggleable__content pre {margin: 0.2em;color: black;border-radius: 0.25em;background-color: #f0f8ff;}#sk-container-id-1 input.sk-toggleable__control:checked~div.sk-toggleable__content {max-height: 200px;max-width: 100%;overflow: auto;}#sk-container-id-1 input.sk-toggleable__control:checked~label.sk-toggleable__label-arrow:before {content: \"▾\";}#sk-container-id-1 div.sk-estimator input.sk-toggleable__control:checked~label.sk-toggleable__label {background-color: #d4ebff;}#sk-container-id-1 div.sk-label input.sk-toggleable__control:checked~label.sk-toggleable__label {background-color: #d4ebff;}#sk-container-id-1 input.sk-hidden--visually {border: 0;clip: rect(1px 1px 1px 1px);clip: rect(1px, 1px, 1px, 1px);height: 1px;margin: -1px;overflow: hidden;padding: 0;position: absolute;width: 1px;}#sk-container-id-1 div.sk-estimator {font-family: monospace;background-color: #f0f8ff;border: 1px dotted black;border-radius: 0.25em;box-sizing: border-box;margin-bottom: 0.5em;}#sk-container-id-1 div.sk-estimator:hover {background-color: #d4ebff;}#sk-container-id-1 div.sk-parallel-item::after {content: \"\";width: 100%;border-bottom: 1px solid gray;flex-grow: 1;}#sk-container-id-1 div.sk-label:hover label.sk-toggleable__label {background-color: #d4ebff;}#sk-container-id-1 div.sk-serial::before {content: \"\";position: absolute;border-left: 1px solid gray;box-sizing: border-box;top: 0;bottom: 0;left: 50%;z-index: 0;}#sk-container-id-1 div.sk-serial {display: flex;flex-direction: column;align-items: center;background-color: white;padding-right: 0.2em;padding-left: 0.2em;position: relative;}#sk-container-id-1 div.sk-item {position: relative;z-index: 1;}#sk-container-id-1 div.sk-parallel {display: flex;align-items: stretch;justify-content: center;background-color: white;position: relative;}#sk-container-id-1 div.sk-item::before, #sk-container-id-1 div.sk-parallel-item::before {content: \"\";position: absolute;border-left: 1px solid gray;box-sizing: border-box;top: 0;bottom: 0;left: 50%;z-index: -1;}#sk-container-id-1 div.sk-parallel-item {display: flex;flex-direction: column;z-index: 1;position: relative;background-color: white;}#sk-container-id-1 div.sk-parallel-item:first-child::after {align-self: flex-end;width: 50%;}#sk-container-id-1 div.sk-parallel-item:last-child::after {align-self: flex-start;width: 50%;}#sk-container-id-1 div.sk-parallel-item:only-child::after {width: 0;}#sk-container-id-1 div.sk-dashed-wrapped {border: 1px dashed gray;margin: 0 0.4em 0.5em 0.4em;box-sizing: border-box;padding-bottom: 0.4em;background-color: white;}#sk-container-id-1 div.sk-label label {font-family: monospace;font-weight: bold;display: inline-block;line-height: 1.2em;}#sk-container-id-1 div.sk-label-container {text-align: center;}#sk-container-id-1 div.sk-container {/* jupyter's `normalize.less` sets `[hidden] { display: none; }` but bootstrap.min.css set `[hidden] { display: none !important; }` so we also need the `!important` here to be able to override the default hidden behavior on the sphinx rendered scikit-learn.org. See: https://github.com/scikit-learn/scikit-learn/issues/21755 */display: inline-block !important;position: relative;}#sk-container-id-1 div.sk-text-repr-fallback {display: none;}</style><div id=\"sk-container-id-1\" class=\"sk-top-container\"><div class=\"sk-text-repr-fallback\"><pre>MLPClassifier(max_iter=500, random_state=42, verbose=10)</pre><b>In a Jupyter environment, please rerun this cell to show the HTML representation or trust the notebook. <br />On GitHub, the HTML representation is unable to render, please try loading this page with nbviewer.org.</b></div><div class=\"sk-container\" hidden><div class=\"sk-item\"><div class=\"sk-estimator sk-toggleable\"><input class=\"sk-toggleable__control sk-hidden--visually\" id=\"sk-estimator-id-1\" type=\"checkbox\" checked><label for=\"sk-estimator-id-1\" class=\"sk-toggleable__label sk-toggleable__label-arrow\">MLPClassifier</label><div class=\"sk-toggleable__content\"><pre>MLPClassifier(max_iter=500, random_state=42, verbose=10)</pre></div></div></div></div></div>"
            ]
          },
          "metadata": {},
          "execution_count": 40
        }
      ]
    },
    {
      "cell_type": "code",
      "source": [
        "y_pred = mlp.predict(X_test)\n"
      ],
      "metadata": {
        "id": "l78FX_ehQNob"
      },
      "execution_count": null,
      "outputs": []
    },
    {
      "cell_type": "code",
      "source": [
        "acc = accuracy_score(y_test, y_pred)\n",
        "print('Accuracy:', acc)\n"
      ],
      "metadata": {
        "colab": {
          "base_uri": "https://localhost:8080/"
        },
        "id": "-QgpTkFsQwH1",
        "outputId": "48bb01e3-2861-42be-b11c-dbb77a130f71"
      },
      "execution_count": null,
      "outputs": [
        {
          "output_type": "stream",
          "name": "stdout",
          "text": [
            "Accuracy: 0.7624071903087143\n"
          ]
        }
      ]
    },
    {
      "cell_type": "code",
      "source": [
        "from keras.models import Sequential\n",
        "from keras.layers import Dense\n",
        "from keras.callbacks import History\n",
        "import matplotlib.pyplot as plt\n",
        "import numpy as np\n",
        "\n",
        "# Define your MLP model\n",
        "model = Sequential()\n",
        "model.add(Dense(64, input_dim=10, activation='relu'))\n",
        "model.add(Dense(1, activation='sigmoid'))\n",
        "\n",
        "# Compile the model\n",
        "model.compile(loss='binary_crossentropy', optimizer='adam', metrics=['accuracy'])\n",
        "\n",
        "# Define training and validation data\n",
        "X_train = np.random.rand(1000, 10)\n",
        "y_train = np.random.randint(0, 2, size=(1000,))\n",
        "X_val = np.random.rand(100, 10)\n",
        "y_val = np.random.randint(0, 2, size=(100,))\n",
        "\n",
        "# Train the model\n",
        "history = History()\n",
        "model.fit(X_train, y_train, epochs=10, validation_data=(X_val, y_val), callbacks=[history])\n",
        "\n",
        "# Plot the accuracy values over epochs\n",
        "plt.plot(history.history['accuracy'])\n",
        "plt.plot(history.history['val_accuracy'])\n",
        "plt.title('Model accuracy')\n",
        "plt.ylabel('Accuracy')\n",
        "plt.xlabel('Epoch')\n",
        "plt.legend(['Train', 'Validation'], loc='upper left')\n",
        "plt.show()"
      ],
      "metadata": {
        "colab": {
          "base_uri": "https://localhost:8080/",
          "height": 855
        },
        "id": "HYP5gLj-uQGg",
        "outputId": "c071141e-8af2-4f09-c370-0b11d0c2b6ea"
      },
      "execution_count": null,
      "outputs": [
        {
          "output_type": "stream",
          "name": "stdout",
          "text": [
            "Epoch 1/10\n",
            "32/32 [==============================] - 1s 14ms/step - loss: 0.6998 - accuracy: 0.4930 - val_loss: 0.6833 - val_accuracy: 0.5700\n",
            "Epoch 2/10\n",
            "32/32 [==============================] - 0s 4ms/step - loss: 0.6941 - accuracy: 0.5010 - val_loss: 0.6847 - val_accuracy: 0.5400\n",
            "Epoch 3/10\n",
            "32/32 [==============================] - 0s 7ms/step - loss: 0.6926 - accuracy: 0.5210 - val_loss: 0.6842 - val_accuracy: 0.5400\n",
            "Epoch 4/10\n",
            "32/32 [==============================] - 0s 5ms/step - loss: 0.6917 - accuracy: 0.5330 - val_loss: 0.6849 - val_accuracy: 0.5200\n",
            "Epoch 5/10\n",
            "32/32 [==============================] - 0s 4ms/step - loss: 0.6912 - accuracy: 0.5340 - val_loss: 0.6856 - val_accuracy: 0.5100\n",
            "Epoch 6/10\n",
            "32/32 [==============================] - 0s 7ms/step - loss: 0.6904 - accuracy: 0.5390 - val_loss: 0.6845 - val_accuracy: 0.5800\n",
            "Epoch 7/10\n",
            "32/32 [==============================] - 1s 18ms/step - loss: 0.6902 - accuracy: 0.5340 - val_loss: 0.6864 - val_accuracy: 0.5700\n",
            "Epoch 8/10\n",
            "32/32 [==============================] - 1s 19ms/step - loss: 0.6895 - accuracy: 0.5300 - val_loss: 0.6867 - val_accuracy: 0.5600\n",
            "Epoch 9/10\n",
            "32/32 [==============================] - 0s 11ms/step - loss: 0.6890 - accuracy: 0.5500 - val_loss: 0.6851 - val_accuracy: 0.5900\n",
            "Epoch 10/10\n",
            "32/32 [==============================] - 0s 10ms/step - loss: 0.6889 - accuracy: 0.5540 - val_loss: 0.6864 - val_accuracy: 0.5600\n"
          ]
        },
        {
          "output_type": "display_data",
          "data": {
            "text/plain": [
              "<Figure size 640x480 with 1 Axes>"
            ],
            "image/png": "[encoded data removed]"
          },
          "metadata": {}
        }
      ]
    },
    {
      "cell_type": "code",
      "source": [
        "from sklearn.metrics import confusion_matrix\n",
        "\n",
        "cnf_matrix = confusion_matrix(y_test, y_pred)\n",
        "cnf_matrix\n"
      ],
      "metadata": {
        "colab": {
          "base_uri": "https://localhost:8080/"
        },
        "id": "92mEJuRYaP2t",
        "outputId": "80fe1e8b-bed9-4cb5-9225-695ebe79ddb9"
      },
      "execution_count": null,
      "outputs": [
        {
          "output_type": "execute_result",
          "data": {
            "text/plain": [
              "array([[4814,    4,  102,   11],\n",
              "       [  25,  285,   70,  132],\n",
              "       [ 125,  211, 1173, 1742],\n",
              "       [ 116,  202,  300, 3483]])"
            ]
          },
          "metadata": {},
          "execution_count": 45
        }
      ]
    },
    {
      "cell_type": "code",
      "source": [
        "import seaborn as sns\n",
        "\n",
        "# plot confusion matrix as a heatmap\n",
        "sns.heatmap(cnf_matrix, annot=True, cmap='Purples')\n"
      ],
      "metadata": {
        "colab": {
          "base_uri": "https://localhost:8080/",
          "height": 448
        },
        "id": "GFoIw6gRbV0k",
        "outputId": "9b79f844-cf98-4ac2-fafa-2baecca48351"
      },
      "execution_count": null,
      "outputs": [
        {
          "output_type": "execute_result",
          "data": {
            "text/plain": [
              "<Axes: >"
            ]
          },
          "metadata": {},
          "execution_count": 48
        },
        {
          "output_type": "display_data",
          "data": {
            "text/plain": [
              "<Figure size 640x480 with 2 Axes>"
            ],
            "image/png": "[encoded data removed]"
          },
          "metadata": {}
        }
      ]
    }
  ]
}